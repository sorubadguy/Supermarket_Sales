{
 "cells": [
  {
   "cell_type": "markdown",
   "id": "fd1f3aae",
   "metadata": {},
   "source": [
    "# Libraries/Packages"
   ]
  },
  {
   "cell_type": "code",
   "execution_count": 1,
   "id": "578d1b50",
   "metadata": {},
   "outputs": [],
   "source": [
    "import pandas as pd\n",
    "import matplotlib.pyplot as plt"
   ]
  },
  {
   "cell_type": "markdown",
   "id": "edcbcd89",
   "metadata": {},
   "source": [
    "# Basic Analysis"
   ]
  },
  {
   "cell_type": "markdown",
   "id": "e0db2e40",
   "metadata": {},
   "source": [
    "### Sales"
   ]
  },
  {
   "cell_type": "code",
   "execution_count": 2,
   "id": "ed3d55bd",
   "metadata": {},
   "outputs": [
    {
     "name": "stdout",
     "output_type": "stream",
     "text": [
      "<class 'pandas.core.frame.DataFrame'>\n",
      "RangeIndex: 878503 entries, 0 to 878502\n",
      "Data columns (total 7 columns):\n",
      " #   Column                       Non-Null Count   Dtype  \n",
      "---  ------                       --------------   -----  \n",
      " 0   Date                         878503 non-null  object \n",
      " 1   Time                         878503 non-null  object \n",
      " 2   Item Code                    878503 non-null  int64  \n",
      " 3   Quantity Sold (kilo)         878503 non-null  float64\n",
      " 4   Unit Selling Price (RMB/kg)  878503 non-null  float64\n",
      " 5   Sale or Return               878503 non-null  object \n",
      " 6   Discount (Yes/No)            878503 non-null  object \n",
      "dtypes: float64(2), int64(1), object(4)\n",
      "memory usage: 46.9+ MB\n"
     ]
    }
   ],
   "source": [
    "sales_path = \"data/sales.csv\"\n",
    "df_sales = pd.read_csv(sales_path)\n",
    "df_sales.info()"
   ]
  },
  {
   "cell_type": "markdown",
   "id": "371b061c",
   "metadata": {},
   "source": [
    "### Product Loss"
   ]
  },
  {
   "cell_type": "code",
   "execution_count": 3,
   "id": "a28f04f9",
   "metadata": {},
   "outputs": [
    {
     "name": "stdout",
     "output_type": "stream",
     "text": [
      "<class 'pandas.core.frame.DataFrame'>\n",
      "RangeIndex: 251 entries, 0 to 250\n",
      "Data columns (total 3 columns):\n",
      " #   Column         Non-Null Count  Dtype  \n",
      "---  ------         --------------  -----  \n",
      " 0   Item Code      251 non-null    int64  \n",
      " 1   Item Name      251 non-null    object \n",
      " 2   Loss Rate (%)  251 non-null    float64\n",
      "dtypes: float64(1), int64(1), object(1)\n",
      "memory usage: 6.0+ KB\n"
     ]
    }
   ],
   "source": [
    "product_loss_path = \"data/product_loss.csv\"\n",
    "df_product_loss = pd.read_csv(product_loss_path)\n",
    "df_product_loss.info()"
   ]
  },
  {
   "cell_type": "markdown",
   "id": "1157f489",
   "metadata": {},
   "source": [
    "### Products"
   ]
  },
  {
   "cell_type": "code",
   "execution_count": 4,
   "id": "9dc10ec3",
   "metadata": {},
   "outputs": [
    {
     "name": "stdout",
     "output_type": "stream",
     "text": [
      "<class 'pandas.core.frame.DataFrame'>\n",
      "RangeIndex: 251 entries, 0 to 250\n",
      "Data columns (total 4 columns):\n",
      " #   Column         Non-Null Count  Dtype \n",
      "---  ------         --------------  ----- \n",
      " 0   Item Code      251 non-null    int64 \n",
      " 1   Item Name      251 non-null    object\n",
      " 2   Category Code  251 non-null    int64 \n",
      " 3   Category Name  251 non-null    object\n",
      "dtypes: int64(2), object(2)\n",
      "memory usage: 8.0+ KB\n"
     ]
    }
   ],
   "source": [
    "products_path = \"data/products.csv\"\n",
    "df_products = pd.read_csv(products_path)\n",
    "df_products.info()"
   ]
  },
  {
   "cell_type": "markdown",
   "id": "e2e98a53",
   "metadata": {},
   "source": [
    "### Retail Price"
   ]
  },
  {
   "cell_type": "code",
   "execution_count": 6,
   "id": "1925c106",
   "metadata": {},
   "outputs": [
    {
     "name": "stdout",
     "output_type": "stream",
     "text": [
      "<class 'pandas.core.frame.DataFrame'>\n",
      "RangeIndex: 55982 entries, 0 to 55981\n",
      "Data columns (total 3 columns):\n",
      " #   Column                    Non-Null Count  Dtype  \n",
      "---  ------                    --------------  -----  \n",
      " 0   Date                      55982 non-null  object \n",
      " 1   Item Code                 55982 non-null  int64  \n",
      " 2   Wholesale Price (RMB/kg)  55982 non-null  float64\n",
      "dtypes: float64(1), int64(1), object(1)\n",
      "memory usage: 1.3+ MB\n"
     ]
    }
   ],
   "source": [
    "retail_price_path = \"data/retail_price.csv\"\n",
    "df_retail_price = pd.read_csv(retail_price_path)\n",
    "df_retail_price.info()"
   ]
  },
  {
   "cell_type": "code",
   "execution_count": null,
   "id": "6f0d8d7d",
   "metadata": {},
   "outputs": [],
   "source": []
  }
 ],
 "metadata": {
  "kernelspec": {
   "display_name": "venv",
   "language": "python",
   "name": "python3"
  },
  "language_info": {
   "codemirror_mode": {
    "name": "ipython",
    "version": 3
   },
   "file_extension": ".py",
   "mimetype": "text/x-python",
   "name": "python",
   "nbconvert_exporter": "python",
   "pygments_lexer": "ipython3",
   "version": "3.13.0"
  }
 },
 "nbformat": 4,
 "nbformat_minor": 5
}
